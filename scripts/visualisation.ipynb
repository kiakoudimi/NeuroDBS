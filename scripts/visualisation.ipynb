{
 "cells": [
  {
   "cell_type": "markdown",
   "id": "33dacff9",
   "metadata": {},
   "source": [
    "# Deep Brain Stimulation: CLassification of STN-DBS ON and OFF states\n",
    "For the classification of the STN-DBS ON/OFF states, the extracted feature maps were organised into a vectorized format reshaping the 3D data into a 1D vector. A mask was later applied to remove the zero values surrounding the brain so that each element in the vectors will represent a specific voxel of the corresponding connectivity map. For each measure, nine classification algorithms were implemented. The default parameters were used for all cases."
   ]
  },
  {
   "cell_type": "markdown",
   "id": "54d5f6da",
   "metadata": {},
   "source": [
    "#### Libraries"
   ]
  },
  {
   "cell_type": "code",
   "execution_count": null,
   "id": "0d6c45c6",
   "metadata": {},
   "outputs": [],
   "source": [
    "import matplotlib.pyplot as plt\n",
    "import nibabel as nib\n",
    "import nilearn.masking\n",
    "import pandas as pd\n",
    "import seaborn as sns\n",
    "from aeon.visualisation import plot_critical_difference, plot_significance\n",
    "from functions import *\n",
    "from matplotlib.colors import Normalize\n",
    "from matplotlib.ticker import MaxNLocator\n",
    "from nilearn import plotting\n",
    "from scipy.stats import friedmanchisquare"
   ]
  },
  {
   "cell_type": "markdown",
   "id": "1851c8d2",
   "metadata": {},
   "source": [
    "#### Classification performance (Figure 2A, 2B)"
   ]
  },
  {
   "cell_type": "code",
   "execution_count": null,
   "id": "684a775b",
   "metadata": {},
   "outputs": [],
   "source": [
    "model_list = [\"LR\", \"KNN\", \"NB\", \"DT\", \"RF\", \"XGB\", \"GB\", \"SVC\", \"LDA\"] * 10\n",
    "\n",
    "file_path = \"../results/scores/classification_performance_train.xlsx\"\n",
    "plot_auc_heatmap(file_path, model_list)\n",
    "\n",
    "# Load and plot results for test\n",
    "file_path = \"../results/scores/classification_performance_test.xlsx\"\n",
    "plot_auc_heatmap(file_path, model_list)"
   ]
  },
  {
   "cell_type": "markdown",
   "id": "4008d403",
   "metadata": {},
   "source": [
    "#### Classification performances (Figure 2C, 2D)"
   ]
  },
  {
   "cell_type": "code",
   "execution_count": null,
   "id": "5004d931",
   "metadata": {},
   "outputs": [],
   "source": [
    "model_names = [\"LR\", \"KNN\", \"NB\", \"DT\", \"RF\", \"XGB\", \"GB\", \"SVC\", \"LDA\"]\n",
    "\n",
    "# Load and plot results for train\n",
    "file_path = \"../results/scores/classification_performance_train.xlsx\"\n",
    "metrics = [\"Accuracy_mean\", \"F1_mean\", \"Recall_mean\"]\n",
    "plot_metrics(file_path, metrics, model_names)\n",
    "\n",
    "# Load and plot results for test\n",
    "file_path = \"../results/scores/classification_performance_test.xlsx\"\n",
    "metrics = [\"Accuracy\", \"F1\", \"Recall\"]\n",
    "plot_metrics(file_path, metrics, model_names)"
   ]
  },
  {
   "cell_type": "markdown",
   "id": "1ec59317",
   "metadata": {},
   "source": [
    "#### Critical difference diagrams (Figure 3A, 3B)"
   ]
  },
  {
   "cell_type": "code",
   "execution_count": null,
   "id": "e1a8bc7b",
   "metadata": {},
   "outputs": [],
   "source": [
    "file_path = \"../results/scores/classification_performance_train.xlsx\"\n",
    "file_path = \"../results/scores/classification_performance_test.xlsx\"\n",
    "xls = pd.ExcelFile(file_path)\n",
    "datasets = xls.sheet_names\n",
    "all_results = []\n",
    "\n",
    "for sheet in datasets:\n",
    "    df = xls.parse(sheet)\n",
    "    df.set_index(df.columns[0], inplace=True)\n",
    "    if \"ROC_AUC\" in df.columns:\n",
    "        all_results.append(df[\"ROC_AUC\"].values)\n",
    "    if \"AUC_mean\" in df.columns:\n",
    "        all_results.append(df[\"AUC_mean\"].values)\n",
    "\n",
    "auc = np.array(all_results)\n",
    "classifiers = [\"LR\", \"KNN\", \"NB\", \"DT\", \"RF\", \"XGB\", \"GB\", \"SVC\", \"LDA\"]\n",
    "auc_df = pd.DataFrame(auc, index=datasets, columns=classifiers)\n",
    "\n",
    "# Perform the Friedman Test\n",
    "friedman_stat, p_value = friedmanchisquare(*auc_df.T.values)\n",
    "print(f\"Friedman test statistic: {friedman_stat}, p-value = {p_value}\")\n",
    "\n",
    "plt.figure(figsize=(16, 12))\n",
    "\n",
    "# critical difference diagram\n",
    "plot_critical_difference(\n",
    "    auc,\n",
    "    classifiers,\n",
    "    lower_better=False,\n",
    "    correction=\"holm\",\n",
    "    alpha=0.05,\n",
    ")\n",
    "\n",
    "# Save and display the plot\n",
    "# plt.savefig('critical_difference_diagram_test.svg', format=\"svg\", bbox_inches=\"tight\")\n",
    "plt.show()\n",
    "plot_significance(\n",
    "    auc,\n",
    "    classifiers,\n",
    ")\n",
    "# plt.savefig('significance_test.svg', format=\"svg\", bbox_inches=\"tight\")\n",
    "plt.show()"
   ]
  },
  {
   "cell_type": "markdown",
   "id": "fff701d6",
   "metadata": {},
   "source": [
    "#### Boxplot ROCAUC (Figure 3C, 3D)"
   ]
  },
  {
   "cell_type": "code",
   "execution_count": null,
   "id": "c9822b6c",
   "metadata": {},
   "outputs": [],
   "source": [
    "file_path = \"../results/scores/classification_performance_train.xlsx\"\n",
    "file_path = \"../results/scores/classification_performance_test.xlsx\"\n",
    "xls = pd.ExcelFile(file_path)\n",
    "classifiers = [\"LR\", \"KNN\", \"NB\", \"DT\", \"RF\", \"XGB\", \"GB\", \"SVC\", \"LDA\"]\n",
    "datasets = xls.sheet_names\n",
    "all_results = []\n",
    "\n",
    "for sheet in datasets:\n",
    "    df = xls.parse(sheet)\n",
    "    df.set_index(df.columns[0], inplace=True)\n",
    "    if \"ROC_AUC\" in df.columns:\n",
    "        all_results.append(df[\"ROC_AUC\"].values)\n",
    "    if \"AUC_mean\" in df.columns:\n",
    "        all_results.append(df[\"AUC_mean\"].values)\n",
    "\n",
    "auc = np.array(all_results).T\n",
    "\n",
    "df_long = pd.DataFrame(auc.T, columns=classifiers).melt(var_name=\"Classifier\", value_name=\"AUC\")\n",
    "\n",
    "# Set figure size\n",
    "plt.figure(figsize=(8, 3.5))\n",
    "\n",
    "# Create violin plot\n",
    "sns.violinplot(data=df_long, x=\"Classifier\", y=\"AUC\", inner=None, linewidth=1.5, color=\"lightgray\")\n",
    "\n",
    "# Overlay with boxplot for median and IQR\n",
    "sns.boxplot(\n",
    "    data=df_long,\n",
    "    x=\"Classifier\",\n",
    "    y=\"AUC\",\n",
    "    width=0.12,\n",
    "    showcaps=False,\n",
    "    showfliers=False,\n",
    "    boxprops={\"facecolor\": \"black\", \"edgecolor\": \"None\", \"linewidth\": 0},\n",
    "    whiskerprops={\"color\": \"black\", \"linewidth\": 1},\n",
    "    medianprops={\"color\": \"white\", \"linewidth\": 3},\n",
    ")\n",
    "\n",
    "plt.xticks(rotation=45, size=12)\n",
    "plt.yticks(size=12)\n",
    "plt.title(\"AUC Distribution Across Classifiers\")\n",
    "plt.grid(axis=\"y\", linestyle=\"--\", alpha=0.7)\n",
    "plt.ylim(0.16, 1.13)\n",
    "# Save and show plot\n",
    "# plt.savefig('violin_plot_test.svg', format=\"svg\", bbox_inches=\"tight\", dpi=300)\n",
    "plt.show()"
   ]
  },
  {
   "cell_type": "markdown",
   "id": "06eebf5e",
   "metadata": {},
   "source": [
    "#### Feature importance (Figure 4)"
   ]
  },
  {
   "cell_type": "code",
   "execution_count": null,
   "id": "b11f84de",
   "metadata": {},
   "outputs": [],
   "source": [
    "# Import feature map\n",
    "nii_file = \"../results/maps/ECM_norm_LDA_importance_map.nii.gz\"\n",
    "\n",
    "fig = plt.figure(figsize=(15, 5))\n",
    "display = plotting.plot_glass_brain(None, figure=fig)\n",
    "display.add_overlay(nii_file, alpha=0.8, cmap=\"RdYlBu_r\", colorbar=True)\n",
    "display.add_contours(\n",
    "    nii_file,\n",
    "    cmap=\"RdYlBu_r\",\n",
    ")\n",
    "\n",
    "# Show and save plot\n",
    "plt.savefig(\"ECM_norm_LDA.svg\")\n",
    "plt.show()"
   ]
  },
  {
   "cell_type": "markdown",
   "id": "576e600d",
   "metadata": {},
   "source": [
    "\n",
    "#### Generate maps for Figure 4"
   ]
  },
  {
   "cell_type": "code",
   "execution_count": null,
   "id": "fa629981",
   "metadata": {},
   "outputs": [],
   "source": [
    "# Path to feature importances\n",
    "feature_importances_path = \"../results/scores/classification_features_importances_test.xlsx\"\n",
    "\n",
    "# Loop over all measures\n",
    "for measure in measures:\n",
    "    print(f\"Processing feature importance for measure: {measure}\")\n",
    "    df_feat = pd.read_excel(feature_importances_path, sheet_name=measure)\n",
    "\n",
    "    # For each model in the sheet\n",
    "    for model_name in df_feat.columns:\n",
    "        importance_scores = df_feat[model_name].values\n",
    "\n",
    "        # Unmask to 3D brain image\n",
    "        tmp_img = nilearn.masking.unmask(importance_scores, mask_img)\n",
    "\n",
    "        # Save NIfTI image\n",
    "        nii_data = tmp_img.get_fdata()\n",
    "        nii_affine = tmp_img.affine\n",
    "        importance_nii = nib.Nifti1Image(nii_data, affine=nii_affine)\n",
    "        nib.save(importance_nii, \"../results/maps/\" + f\"{measure}_{model_name}_importance_map.nii.gz\")\n",
    "\n",
    "print(\"Feature importance maps saved successfully.\")"
   ]
  }
 ],
 "metadata": {
  "kernelspec": {
   "display_name": "Python 3 (ipykernel)",
   "language": "python",
   "name": "python3"
  },
  "language_info": {
   "codemirror_mode": {
    "name": "ipython",
    "version": 3
   },
   "file_extension": ".py",
   "mimetype": "text/x-python",
   "name": "python",
   "nbconvert_exporter": "python",
   "pygments_lexer": "ipython3",
   "version": "3.10.15"
  }
 },
 "nbformat": 4,
 "nbformat_minor": 5
}
